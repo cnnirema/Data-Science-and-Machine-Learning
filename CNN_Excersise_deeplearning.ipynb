{
  "nbformat": 4,
  "nbformat_minor": 0,
  "metadata": {
    "colab": {
      "name": "CNN Assignment week#5 .deeplearning",
      "provenance": [],
      "collapsed_sections": [],
      "include_colab_link": true
    },
    "kernelspec": {
      "name": "python3",
      "display_name": "Python 3"
    },
    "accelerator": "GPU"
  },
  "cells": [
    {
      "cell_type": "markdown",
      "metadata": {
        "id": "view-in-github",
        "colab_type": "text"
      },
      "source": [
        "<a href=\"https://colab.research.google.com/github/cnnirema/Data-Science-and-Machine-Learning/blob/main/CNN_Excersise_deeplearning.ipynb\" target=\"_parent\"><img src=\"https://colab.research.google.com/assets/colab-badge.svg\" alt=\"Open In Colab\"/></a>"
      ]
    },
    {
      "cell_type": "code",
      "metadata": {
        "id": "RnyejgtJHgJv"
      },
      "source": [
        "import pandas as pd\n",
        "import numpy as np\n",
        "import matplotlib.pyplot as plt\n",
        "\n",
        "from keras.datasets import mnist\n",
        "from keras.models import Sequential\n",
        "from keras.utils.np_utils import to_categorical\n",
        "\n",
        "import keras.backend as K\n"
      ],
      "execution_count": null,
      "outputs": []
    },
    {
      "cell_type": "code",
      "metadata": {
        "id": "T2qtNYbOIgFc"
      },
      "source": [
        "from keras.callbacks import EarlyStopping\n",
        "from keras.datasets import cifar10\n",
        "from keras.models import Sequential\n",
        "from keras.layers.core import Dense, Dropout, Flatten\n",
        "from keras.layers.convolutional import Conv2D\n",
        "from keras.optimizers import Adam\n",
        "from keras.layers.pooling import MaxPool2D\n",
        "from keras. utils import to_categorical"
      ],
      "execution_count": null,
      "outputs": []
    },
    {
      "cell_type": "code",
      "metadata": {
        "id": "nkUcyyjDIgNH"
      },
      "source": [
        "(X_train, Y_train),(X_test,Y_test)= cifar10.load_data()"
      ],
      "execution_count": null,
      "outputs": []
    },
    {
      "cell_type": "code",
      "metadata": {
        "id": "M_Nt4MkZIgQ3",
        "outputId": "fce48c68-29c6-4446-b123-8a55591718d4",
        "colab": {
          "base_uri": "https://localhost:8080/",
          "height": 35
        }
      },
      "source": [
        "Y_train = to_categorical(Y_train)\n",
        "Y_test = to_categorical(Y_test)\n",
        "Y_train.shape, Y_test.shape"
      ],
      "execution_count": null,
      "outputs": [
        {
          "output_type": "execute_result",
          "data": {
            "text/plain": [
              "((50000, 10), (10000, 10))"
            ]
          },
          "metadata": {
            "tags": []
          },
          "execution_count": 4
        }
      ]
    },
    {
      "cell_type": "code",
      "metadata": {
        "id": "Wt6UhbYMgLZI",
        "outputId": "840ad909-83db-428c-c29e-e27af202b202",
        "colab": {
          "base_uri": "https://localhost:8080/",
          "height": 35
        }
      },
      "source": [
        "X_train.shape"
      ],
      "execution_count": null,
      "outputs": [
        {
          "output_type": "execute_result",
          "data": {
            "text/plain": [
              "(50000, 32, 32, 3)"
            ]
          },
          "metadata": {
            "tags": []
          },
          "execution_count": 11
        }
      ]
    },
    {
      "cell_type": "code",
      "metadata": {
        "id": "9FFIpv73Lxry",
        "outputId": "a8459f7a-f0b8-4024-fc4b-395ab8f55677",
        "colab": {
          "base_uri": "https://localhost:8080/",
          "height": 35
        }
      },
      "source": [
        "x_train = X_train.reshape(-1,32,32,3)\n",
        "X_test = X_test.reshape(-1,32,32,3)\n",
        "X_train.shape, X_test.shape"
      ],
      "execution_count": null,
      "outputs": [
        {
          "output_type": "execute_result",
          "data": {
            "text/plain": [
              "((50000, 32, 32, 3), (10000, 32, 32, 3))"
            ]
          },
          "metadata": {
            "tags": []
          },
          "execution_count": 5
        }
      ]
    },
    {
      "cell_type": "code",
      "metadata": {
        "id": "kAA6G5YwLxu0"
      },
      "source": [
        "from keras.layers import Dense, Flatten, Conv2D, MaxPool2D, Dropout"
      ],
      "execution_count": null,
      "outputs": []
    },
    {
      "cell_type": "code",
      "metadata": {
        "id": "UdzrOS_QLxxu"
      },
      "source": [
        "K.clear_session()"
      ],
      "execution_count": null,
      "outputs": []
    },
    {
      "cell_type": "code",
      "metadata": {
        "id": "-yWJuYw8Lx0i",
        "outputId": "6036bd1e-a6c1-4666-ab1d-5333de7d819c",
        "colab": {
          "base_uri": "https://localhost:8080/",
          "height": 92
        }
      },
      "source": [
        "model = Sequential()\n",
        "\n",
        "model.add(Conv2D(32,(3,3), activation='relu', input_shape=(32,32,3)))\n",
        "model.add(Conv2D(32,(3,3), activation='relu'))\n",
        "model.add(Conv2D(32,(3,3), activation='relu'))\n",
        "model.add(MaxPool2D(pool_size=(2,2)))\n",
        "\n",
        "\n",
        "model.add(Conv2D(64,(3,3), padding='same',activation='relu'))\n",
        "model.add(Conv2D(64,(3,3), padding='same',activation='relu'))\n",
        "model.add(Conv2D(64,(3,3), padding='same',activation='relu'))\n",
        "model.add(MaxPool2D(pool_size=(2,2)))\n",
        "\n",
        "model.add(Conv2D(128,(3,3), padding='same',activation='relu'))\n",
        "model.add(Conv2D(128,(3,3), padding='same',activation='relu'))\n",
        "model.add(Conv2D(128,(3,3), padding='same',activation='relu'))\n",
        "model.add(MaxPool2D(pool_size=(2,2)))\n",
        "\n",
        "model.add(Conv2D(256,(3,3), padding='same',activation='relu'))\n",
        "model.add(Conv2D(256,(3,3), padding='same',activation='relu'))\n",
        "model.add(Conv2D(256,(3,3), padding='same',activation='relu'))\n",
        "model.add(MaxPool2D(pool_size=(2,2)))\n",
        "\n",
        "model.add(Flatten())\n",
        "\n",
        "model.add(Dense(128, activation='relu'))\n",
        "\n",
        "model.add(Dense(10, activation= 'softmax'))\n",
        "\n",
        "model.compile(loss= 'categorical_crossentropy',\n",
        "              optimizer= 'adam',\n",
        "              metrics= ['accuracy'])"
      ],
      "execution_count": null,
      "outputs": [
        {
          "output_type": "stream",
          "text": [
            "WARNING:tensorflow:From /usr/local/lib/python3.6/dist-packages/tensorflow/python/framework/op_def_library.py:263: colocate_with (from tensorflow.python.framework.ops) is deprecated and will be removed in a future version.\n",
            "Instructions for updating:\n",
            "Colocations handled automatically by placer.\n"
          ],
          "name": "stdout"
        }
      ]
    },
    {
      "cell_type": "code",
      "metadata": {
        "id": "2aWS2zb5Lx3K",
        "outputId": "bfe6cf65-fe03-4f9f-e088-7a9598dc1eb9",
        "colab": {
          "base_uri": "https://localhost:8080/",
          "height": 835
        }
      },
      "source": [
        "model.summary()"
      ],
      "execution_count": null,
      "outputs": [
        {
          "output_type": "stream",
          "text": [
            "_________________________________________________________________\n",
            "Layer (type)                 Output Shape              Param #   \n",
            "=================================================================\n",
            "conv2d_1 (Conv2D)            (None, 30, 30, 32)        896       \n",
            "_________________________________________________________________\n",
            "conv2d_2 (Conv2D)            (None, 28, 28, 32)        9248      \n",
            "_________________________________________________________________\n",
            "conv2d_3 (Conv2D)            (None, 26, 26, 32)        9248      \n",
            "_________________________________________________________________\n",
            "max_pooling2d_1 (MaxPooling2 (None, 13, 13, 32)        0         \n",
            "_________________________________________________________________\n",
            "conv2d_4 (Conv2D)            (None, 13, 13, 64)        18496     \n",
            "_________________________________________________________________\n",
            "conv2d_5 (Conv2D)            (None, 13, 13, 64)        36928     \n",
            "_________________________________________________________________\n",
            "conv2d_6 (Conv2D)            (None, 13, 13, 64)        36928     \n",
            "_________________________________________________________________\n",
            "max_pooling2d_2 (MaxPooling2 (None, 6, 6, 64)          0         \n",
            "_________________________________________________________________\n",
            "conv2d_7 (Conv2D)            (None, 6, 6, 128)         73856     \n",
            "_________________________________________________________________\n",
            "conv2d_8 (Conv2D)            (None, 6, 6, 128)         147584    \n",
            "_________________________________________________________________\n",
            "conv2d_9 (Conv2D)            (None, 6, 6, 128)         147584    \n",
            "_________________________________________________________________\n",
            "max_pooling2d_3 (MaxPooling2 (None, 3, 3, 128)         0         \n",
            "_________________________________________________________________\n",
            "conv2d_10 (Conv2D)           (None, 3, 3, 256)         295168    \n",
            "_________________________________________________________________\n",
            "conv2d_11 (Conv2D)           (None, 3, 3, 256)         590080    \n",
            "_________________________________________________________________\n",
            "conv2d_12 (Conv2D)           (None, 3, 3, 256)         590080    \n",
            "_________________________________________________________________\n",
            "max_pooling2d_4 (MaxPooling2 (None, 1, 1, 256)         0         \n",
            "_________________________________________________________________\n",
            "flatten_1 (Flatten)          (None, 256)               0         \n",
            "_________________________________________________________________\n",
            "dense_1 (Dense)              (None, 128)               32896     \n",
            "_________________________________________________________________\n",
            "dense_2 (Dense)              (None, 10)                1290      \n",
            "=================================================================\n",
            "Total params: 1,990,282\n",
            "Trainable params: 1,990,282\n",
            "Non-trainable params: 0\n",
            "_________________________________________________________________\n"
          ],
          "name": "stdout"
        }
      ]
    },
    {
      "cell_type": "code",
      "metadata": {
        "id": "vugoM48EIgVJ",
        "outputId": "78342604-67df-4dc0-f02a-1c2fc2ce4b32",
        "colab": {
          "base_uri": "https://localhost:8080/",
          "height": 1201
        }
      },
      "source": [
        "h= model.fit(X_train,Y_train, batch_size=128,\n",
        "            epochs=30, verbose =1, validation_split=0.3)"
      ],
      "execution_count": null,
      "outputs": [
        {
          "output_type": "stream",
          "text": [
            "WARNING:tensorflow:From /usr/local/lib/python3.6/dist-packages/tensorflow/python/ops/math_ops.py:3066: to_int32 (from tensorflow.python.ops.math_ops) is deprecated and will be removed in a future version.\n",
            "Instructions for updating:\n",
            "Use tf.cast instead.\n",
            "Train on 35000 samples, validate on 15000 samples\n",
            "Epoch 1/30\n",
            "35000/35000 [==============================] - 11s 309us/step - loss: 2.0146 - acc: 0.2299 - val_loss: 1.7190 - val_acc: 0.3443\n",
            "Epoch 2/30\n",
            "35000/35000 [==============================] - 7s 213us/step - loss: 1.6099 - acc: 0.3910 - val_loss: 1.6445 - val_acc: 0.4099\n",
            "Epoch 3/30\n",
            "35000/35000 [==============================] - 7s 211us/step - loss: 1.3698 - acc: 0.4980 - val_loss: 1.3102 - val_acc: 0.5233\n",
            "Epoch 4/30\n",
            "35000/35000 [==============================] - 7s 210us/step - loss: 1.1858 - acc: 0.5739 - val_loss: 1.2024 - val_acc: 0.5737\n",
            "Epoch 5/30\n",
            "35000/35000 [==============================] - 7s 210us/step - loss: 1.0495 - acc: 0.6277 - val_loss: 1.1114 - val_acc: 0.6015\n",
            "Epoch 6/30\n",
            "35000/35000 [==============================] - 7s 208us/step - loss: 0.9548 - acc: 0.6600 - val_loss: 0.9924 - val_acc: 0.6473\n",
            "Epoch 7/30\n",
            "35000/35000 [==============================] - 7s 207us/step - loss: 0.8421 - acc: 0.7020 - val_loss: 0.9871 - val_acc: 0.6598\n",
            "Epoch 8/30\n",
            "35000/35000 [==============================] - 7s 206us/step - loss: 0.7811 - acc: 0.7240 - val_loss: 0.9814 - val_acc: 0.6637\n",
            "Epoch 9/30\n",
            "35000/35000 [==============================] - 7s 206us/step - loss: 0.7097 - acc: 0.7524 - val_loss: 0.9510 - val_acc: 0.6774\n",
            "Epoch 10/30\n",
            "35000/35000 [==============================] - 7s 205us/step - loss: 0.6484 - acc: 0.7725 - val_loss: 0.9825 - val_acc: 0.6850\n",
            "Epoch 11/30\n",
            "35000/35000 [==============================] - 7s 207us/step - loss: 0.5827 - acc: 0.7971 - val_loss: 0.9338 - val_acc: 0.6901\n",
            "Epoch 12/30\n",
            "35000/35000 [==============================] - 7s 209us/step - loss: 0.5312 - acc: 0.8125 - val_loss: 0.9678 - val_acc: 0.6889\n",
            "Epoch 13/30\n",
            "35000/35000 [==============================] - 7s 212us/step - loss: 0.4914 - acc: 0.8281 - val_loss: 0.9966 - val_acc: 0.6940\n",
            "Epoch 14/30\n",
            "35000/35000 [==============================] - 7s 208us/step - loss: 0.4548 - acc: 0.8419 - val_loss: 0.9785 - val_acc: 0.6996\n",
            "Epoch 15/30\n",
            "35000/35000 [==============================] - 7s 207us/step - loss: 0.4083 - acc: 0.8572 - val_loss: 1.1327 - val_acc: 0.6866\n",
            "Epoch 16/30\n",
            "35000/35000 [==============================] - 7s 206us/step - loss: 0.3909 - acc: 0.8654 - val_loss: 1.1197 - val_acc: 0.6978\n",
            "Epoch 17/30\n",
            "35000/35000 [==============================] - 7s 207us/step - loss: 0.3479 - acc: 0.8784 - val_loss: 1.1624 - val_acc: 0.7015\n",
            "Epoch 18/30\n",
            "35000/35000 [==============================] - 7s 209us/step - loss: 0.3354 - acc: 0.8839 - val_loss: 1.1102 - val_acc: 0.7000\n",
            "Epoch 19/30\n",
            "35000/35000 [==============================] - 7s 214us/step - loss: 0.3040 - acc: 0.8925 - val_loss: 1.2236 - val_acc: 0.7024\n",
            "Epoch 20/30\n",
            "35000/35000 [==============================] - 7s 206us/step - loss: 0.2708 - acc: 0.9073 - val_loss: 1.2451 - val_acc: 0.6945\n",
            "Epoch 21/30\n",
            "35000/35000 [==============================] - 7s 205us/step - loss: 0.2686 - acc: 0.9115 - val_loss: 1.2766 - val_acc: 0.7076\n",
            "Epoch 22/30\n",
            "35000/35000 [==============================] - 7s 205us/step - loss: 0.2662 - acc: 0.9115 - val_loss: 1.1690 - val_acc: 0.7029\n",
            "Epoch 23/30\n",
            "35000/35000 [==============================] - 7s 205us/step - loss: 0.2503 - acc: 0.9152 - val_loss: 1.3699 - val_acc: 0.6950\n",
            "Epoch 24/30\n",
            "35000/35000 [==============================] - 7s 211us/step - loss: 0.2535 - acc: 0.9152 - val_loss: 1.3012 - val_acc: 0.6983\n",
            "Epoch 25/30\n",
            "35000/35000 [==============================] - 7s 207us/step - loss: 0.2204 - acc: 0.9257 - val_loss: 1.4878 - val_acc: 0.7030\n",
            "Epoch 26/30\n",
            "35000/35000 [==============================] - 7s 205us/step - loss: 0.2256 - acc: 0.9240 - val_loss: 1.2861 - val_acc: 0.6897\n",
            "Epoch 27/30\n",
            "35000/35000 [==============================] - 7s 206us/step - loss: 0.2085 - acc: 0.9313 - val_loss: 1.2998 - val_acc: 0.7085\n",
            "Epoch 28/30\n",
            "35000/35000 [==============================] - 7s 206us/step - loss: 0.1996 - acc: 0.9343 - val_loss: 1.4957 - val_acc: 0.6901\n",
            "Epoch 29/30\n",
            "35000/35000 [==============================] - 7s 206us/step - loss: 0.1912 - acc: 0.9355 - val_loss: 1.4962 - val_acc: 0.7014\n",
            "Epoch 30/30\n",
            "35000/35000 [==============================] - 7s 205us/step - loss: 0.1811 - acc: 0.9431 - val_loss: 1.4770 - val_acc: 0.6971\n"
          ],
          "name": "stdout"
        }
      ]
    },
    {
      "cell_type": "code",
      "metadata": {
        "id": "2yfrtQAKROmn",
        "outputId": "8b138002-a68d-4a7a-ab49-fbaf4ac1a70a",
        "colab": {
          "base_uri": "https://localhost:8080/",
          "height": 287
        }
      },
      "source": [
        "plt.plot(h.history['loss'])\n",
        "plt.plot(h.history['acc'])"
      ],
      "execution_count": null,
      "outputs": [
        {
          "output_type": "execute_result",
          "data": {
            "text/plain": [
              "[<matplotlib.lines.Line2D at 0x7f354710b9b0>]"
            ]
          },
          "metadata": {
            "tags": []
          },
          "execution_count": 11
        },
        {
          "output_type": "display_data",
          "data": {
            "image/png": "[encoded data removed]",
            "text/plain": [
              "<Figure size 432x288 with 1 Axes>"
            ]
          },
          "metadata": {
            "tags": []
          }
        }
      ]
    },
    {
      "cell_type": "code",
      "metadata": {
        "id": "09Qo21ifRO9U"
      },
      "source": [
        ""
      ],
      "execution_count": null,
      "outputs": []
    }
  ]
}